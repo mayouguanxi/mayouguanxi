{
  "nbformat": 4,
  "nbformat_minor": 0,
  "metadata": {
    "colab": {
      "name": "utilities.ipynb",
      "provenance": [],
      "include_colab_link": true
    },
    "kernelspec": {
      "name": "python3",
      "display_name": "Python 3"
    },
    "language_info": {
      "name": "python"
    }
  },
  "cells": [
    {
      "cell_type": "markdown",
      "metadata": {
        "id": "view-in-github",
        "colab_type": "text"
      },
      "source": [
        "<a href=\"https://colab.research.google.com/github/mayouguanxi/mayouguanxi/blob/main/utilities.ipynb\" target=\"_parent\"><img src=\"https://colab.research.google.com/assets/colab-badge.svg\" alt=\"Open In Colab\"/></a>"
      ]
    },
    {
      "cell_type": "code",
      "execution_count": null,
      "metadata": {
        "id": "TLGRm8eLRGZT"
      },
      "outputs": [],
      "source": [
        "# Module Utilities\n",
        "def isNumber(x):\n",
        "  '''\n",
        "  Returns whether 'x' is a Python number type\n",
        "\n",
        "  >>> isNumber(3.2)\n",
        "  True\n",
        "  >>> isNumber('Twenty')\n",
        "  False\n",
        "   \n",
        "  '''\n",
        "  return isinstance(x,(int,float))"
      ]
    }
  ]
}