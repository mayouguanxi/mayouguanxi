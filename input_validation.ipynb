{
  "cells": [
    {
      "cell_type": "markdown",
      "metadata": {
        "id": "view-in-github",
        "colab_type": "text"
      },
      "source": [
        "<a href=\"https://colab.research.google.com/github/mayouguanxi/mayouguanxi/blob/main/input_validation.ipynb\" target=\"_parent\"><img src=\"https://colab.research.google.com/assets/colab-badge.svg\" alt=\"Open In Colab\"/></a>"
      ]
    },
    {
      "cell_type": "markdown",
      "id": "b5835b0c",
      "metadata": {
        "id": "b5835b0c"
      },
      "source": [
        "# Input Validation\n",
        "\n",
        "Input validation code verifies that user supplied data, such as text from the input() function, is formatted appropriately.\n",
        "\n",
        "* try/except\n",
        "* isdigit()\n",
        "* pyinputplus\n",
        "\n",
        "## try/except"
      ]
    },
    {
      "cell_type": "code",
      "execution_count": 9,
      "id": "695b1f5f",
      "metadata": {
        "id": "695b1f5f",
        "colab": {
          "base_uri": "https://localhost:8080/"
        },
        "outputId": "56bebc5e-f088-4988-a567-cf1352f467da"
      },
      "outputs": [
        {
          "name": "stdout",
          "output_type": "stream",
          "text": [
            "How old are you?nineteen\n",
            "You are21years old\n",
            "You are21years old\n",
            "How old are you?19\n"
          ]
        }
      ],
      "source": [
        "while True:\n",
        "  try:\n",
        "    age=int(input(\"How old are you?\"))\n",
        "  except ValueError:\n",
        "   print(\"You are\"+str(age)+\"years old\")\n",
        "\n",
        "  print(\"You are\"+str(age)+\"years old\")"
      ]
    },
    {
      "cell_type": "code",
      "source": [
        " while True:\n",
        "   age = input('How old are you? ') \n",
        "   if age.isdigit():\n",
        "     break \n",
        "   else:\n",
        "     print('You must enter a valid number') \n",
        "     \n",
        "print('You are ' + str(age))"
      ],
      "metadata": {
        "id": "cQvBN7bFfB5k",
        "colab": {
          "base_uri": "https://localhost:8080/"
        },
        "outputId": "47ced1bc-560d-46c9-832a-0fbc1526d245"
      },
      "id": "cQvBN7bFfB5k",
      "execution_count": 11,
      "outputs": [
        {
          "output_type": "stream",
          "name": "stdout",
          "text": [
            "How old are you? nineteen\n",
            "You must enter a valid number\n",
            "How old are you? 19\n",
            "You are 19\n"
          ]
        }
      ]
    },
    {
      "cell_type": "markdown",
      "id": "acc7252b",
      "metadata": {
        "id": "acc7252b"
      },
      "source": [
        "## isdigit()"
      ]
    },
    {
      "cell_type": "code",
      "execution_count": null,
      "id": "5f98c241",
      "metadata": {
        "id": "5f98c241"
      },
      "outputs": [],
      "source": [
        ""
      ]
    },
    {
      "cell_type": "markdown",
      "id": "18c00dc3",
      "metadata": {
        "id": "18c00dc3"
      },
      "source": [
        "## Module: pyinputs"
      ]
    },
    {
      "cell_type": "code",
      "execution_count": 13,
      "id": "dfe1740b",
      "metadata": {
        "id": "dfe1740b",
        "colab": {
          "base_uri": "https://localhost:8080/"
        },
        "outputId": "011e78b7-cbea-4c85-b3f0-e088e968048a"
      },
      "outputs": [
        {
          "output_type": "stream",
          "name": "stdout",
          "text": [
            "Looking in indexes: https://pypi.org/simple, https://us-python.pkg.dev/colab-wheels/public/simple/\n",
            "Requirement already satisfied: PyInputPlus in /usr/local/lib/python3.7/dist-packages (0.2.12)\n",
            "Requirement already satisfied: pysimplevalidate>=0.2.7 in /usr/local/lib/python3.7/dist-packages (from PyInputPlus) (0.2.12)\n",
            "Requirement already satisfied: stdiomask>=0.0.3 in /usr/local/lib/python3.7/dist-packages (from PyInputPlus) (0.0.6)\n"
          ]
        }
      ],
      "source": [
        "!pip install PyInputPlus"
      ]
    },
    {
      "cell_type": "code",
      "source": [
        "import pyinputplus as pyip\n",
        "help(pyip.inputNum)\n",
        "\n"
      ],
      "metadata": {
        "id": "OvqPitIkh379",
        "colab": {
          "base_uri": "https://localhost:8080/"
        },
        "outputId": "27763bf4-34dd-4b13-8397-3a2d57ac7379"
      },
      "id": "OvqPitIkh379",
      "execution_count": 15,
      "outputs": [
        {
          "output_type": "stream",
          "name": "stdout",
          "text": [
            "Help on function inputNum in module pyinputplus:\n",
            "\n",
            "inputNum(prompt='', default=None, blank=False, timeout=None, limit=None, strip=None, allowRegexes=None, blockRegexes=None, applyFunc=None, postValidateApplyFunc=None, min=None, max=None, greaterThan=None, lessThan=None)\n",
            "    Prompts the user to enter a number, either an integer or a floating-point\n",
            "    value. Returns an int or float value (depending on if the user entered a\n",
            "    decimal in their input.)\n",
            "    \n",
            "    Run ``help(pyinputplus.parameters)`` for an explanation of the common parameters.\n",
            "    \n",
            "    * ``min`` (None, float): If not ``None``, the minimum accepted numeric value, including the minimum argument.\n",
            "    * ``max`` (None, float): If not ``None``, the maximum accepted numeric value, including the maximum argument.\n",
            "    * ``greaterThan`` (None, float): If not ``None``, the minimum accepted numeric value, not including the ``greaterThan`` argument.\n",
            "    * ``lessThan`` (None, float): If not ``None``, the maximum accepted numeric value, not including the ``lessThan`` argument.\n",
            "    \n",
            "    >>> import pyinputplus as pyip\n",
            "    >>> response = pyip.inputNum()\n",
            "    forty two\n",
            "    'forty two' is not a number.\n",
            "    42\n",
            "    >>> response\n",
            "    42\n",
            "    >>> response = pyip.inputNum()\n",
            "    9\n",
            "    >>> type(response)\n",
            "    <class 'int'>\n",
            "    >>> response = pyip.inputNum()\n",
            "    9.0\n",
            "    >>> type(response)\n",
            "    <class 'float'>\n",
            "    >>> response = pyip.inputNum(min=4)\n",
            "    3\n",
            "    Number must be at minimum 4.\n",
            "    4\n",
            "    >>> response\n",
            "    4\n",
            "    >>> response = pyip.inputNum(greaterThan=4)\n",
            "    4\n",
            "    Number must be greater than 4.\n",
            "    4.1\n",
            "    >>> response\n",
            "    4.1\n",
            "    >>> response = pyip.inputNum(limit=2)\n",
            "    dog\n",
            "    'dog' is not a number.\n",
            "    cat\n",
            "    'cat' is not a number.\n",
            "    Traceback (most recent call last):\n",
            "        ...\n",
            "    pyinputplus.RetryLimitException\n",
            "\n"
          ]
        }
      ]
    },
    {
      "cell_type": "code",
      "source": [
        ""
      ],
      "metadata": {
        "id": "BSY3chdWieP1"
      },
      "id": "BSY3chdWieP1",
      "execution_count": null,
      "outputs": []
    }
  ],
  "metadata": {
    "kernelspec": {
      "display_name": "Python 3 (ipykernel)",
      "language": "python",
      "name": "python3"
    },
    "language_info": {
      "codemirror_mode": {
        "name": "ipython",
        "version": 3
      },
      "file_extension": ".py",
      "mimetype": "text/x-python",
      "name": "python",
      "nbconvert_exporter": "python",
      "pygments_lexer": "ipython3",
      "version": "3.9.6"
    },
    "colab": {
      "name": "input_validation.ipynb",
      "provenance": [],
      "include_colab_link": true
    }
  },
  "nbformat": 4,
  "nbformat_minor": 5
}