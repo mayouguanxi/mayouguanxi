{
  "cells": [
    {
      "cell_type": "markdown",
      "metadata": {
        "id": "view-in-github",
        "colab_type": "text"
      },
      "source": [
        "<a href=\"https://colab.research.google.com/github/mayouguanxi/mayouguanxi/blob/main/input_validation.ipynb\" target=\"_parent\"><img src=\"https://colab.research.google.com/assets/colab-badge.svg\" alt=\"Open In Colab\"/></a>"
      ]
    },
    {
      "cell_type": "markdown",
      "id": "b5835b0c",
      "metadata": {
        "id": "b5835b0c"
      },
      "source": [
        "# Input Validation\n",
        "\n",
        "Input validation code verifies that user supplied data, such as text from the input() function, is formatted appropriately.\n",
        "\n",
        "* try/except\n",
        "* isdigit()\n",
        "* pyinputplus\n",
        "\n",
        "## try/except"
      ]
    },
    {
      "cell_type": "code",
      "execution_count": 9,
      "id": "695b1f5f",
      "metadata": {
        "id": "695b1f5f",
        "colab": {
          "base_uri": "https://localhost:8080/"
        },
        "outputId": "56bebc5e-f088-4988-a567-cf1352f467da"
      },
      "outputs": [
        {
          "name": "stdout",
          "output_type": "stream",
          "text": [
            "How old are you?nineteen\n",
            "You are21years old\n",
            "You are21years old\n",
            "How old are you?19\n"
          ]
        }
      ],
      "source": [
        "while True:\n",
        "  try:\n",
        "    age=int(input(\"How old are you?\"))\n",
        "  except ValueError:\n",
        "   print(\"You are\"+str(age)+\"years old\")\n",
        "\n",
        "  print(\"You are\"+str(age)+\"years old\")"
      ]
    },
    {
      "cell_type": "code",
      "source": [
        " while True:\n",
        "   age = input('How old are you? ') \n",
        "   if age.isdigit():\n",
        "     break \n",
        "   else:\n",
        "     print('You must enter a valid number') \n",
        "     \n",
        "print('You are ' + str(age))"
      ],
      "metadata": {
        "id": "cQvBN7bFfB5k",
        "colab": {
          "base_uri": "https://localhost:8080/"
        },
        "outputId": "47ced1bc-560d-46c9-832a-0fbc1526d245"
      },
      "id": "cQvBN7bFfB5k",
      "execution_count": 11,
      "outputs": [
        {
          "output_type": "stream",
          "name": "stdout",
          "text": [
            "How old are you? nineteen\n",
            "You must enter a valid number\n",
            "How old are you? 19\n",
            "You are 19\n"
          ]
        }
      ]
    },
    {
      "cell_type": "markdown",
      "id": "acc7252b",
      "metadata": {
        "id": "acc7252b"
      },
      "source": [
        "## isdigit()"
      ]
    },
    {
      "cell_type": "code",
      "execution_count": null,
      "id": "5f98c241",
      "metadata": {
        "id": "5f98c241"
      },
      "outputs": [],
      "source": [
        ""
      ]
    },
    {
      "cell_type": "markdown",
      "id": "18c00dc3",
      "metadata": {
        "id": "18c00dc3"
      },
      "source": [
        "## Module: pyinputs"
      ]
    },
    {
      "cell_type": "code",
      "execution_count": null,
      "id": "dfe1740b",
      "metadata": {
        "id": "dfe1740b"
      },
      "outputs": [],
      "source": [
        ""
      ]
    },
    {
      "cell_type": "code",
      "source": [
        "\n"
      ],
      "metadata": {
        "id": "OvqPitIkh379"
      },
      "id": "OvqPitIkh379",
      "execution_count": null,
      "outputs": []
    },
    {
      "cell_type": "code",
      "source": [
        ""
      ],
      "metadata": {
        "id": "BSY3chdWieP1"
      },
      "id": "BSY3chdWieP1",
      "execution_count": null,
      "outputs": []
    }
  ],
  "metadata": {
    "kernelspec": {
      "display_name": "Python 3 (ipykernel)",
      "language": "python",
      "name": "python3"
    },
    "language_info": {
      "codemirror_mode": {
        "name": "ipython",
        "version": 3
      },
      "file_extension": ".py",
      "mimetype": "text/x-python",
      "name": "python",
      "nbconvert_exporter": "python",
      "pygments_lexer": "ipython3",
      "version": "3.9.6"
    },
    "colab": {
      "name": "input_validation.ipynb",
      "provenance": [],
      "include_colab_link": true
    }
  },
  "nbformat": 4,
  "nbformat_minor": 5
}