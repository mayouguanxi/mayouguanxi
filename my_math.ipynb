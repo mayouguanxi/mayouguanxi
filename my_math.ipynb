{
  "nbformat": 4,
  "nbformat_minor": 0,
  "metadata": {
    "colab": {
      "name": "my_math.ipynb",
      "provenance": [],
      "include_colab_link": true
    },
    "kernelspec": {
      "name": "python3",
      "display_name": "Python 3"
    },
    "language_info": {
      "name": "python"
    }
  },
  "cells": [
    {
      "cell_type": "markdown",
      "metadata": {
        "id": "view-in-github",
        "colab_type": "text"
      },
      "source": [
        "<a href=\"https://colab.research.google.com/github/mayouguanxi/mayouguanxi/blob/main/my_math.ipynb\" target=\"_parent\"><img src=\"https://colab.research.google.com/assets/colab-badge.svg\" alt=\"Open In Colab\"/></a>"
      ]
    },
    {
      "cell_type": "code",
      "execution_count": 1,
      "metadata": {
        "id": "TLGRm8eLRGZT"
      },
      "outputs": [],
      "source": [
        "# Module Mathematical Operations\n",
        "def add(num1, num2):\n",
        "  '''\n",
        "  Returns the sum of num1 and num2 otherwise UNK\n",
        "\n",
        "  >>> add(2,3)\n",
        "  5\n",
        "  >>> add('2',3)\n",
        "  'UNK'\n",
        "  \n",
        "  '''\n",
        "  print(\"HELLO!!!!!\")\n",
        "  result = \"UNK\"\n",
        "  if isNumber(num1) and isNumber(num2):\n",
        "    result = num1 + num2\n",
        "  return result\n",
        "\n",
        "\n",
        "def subtract(num1, num2):\n",
        "  '''\n",
        "  Returns the subtraction of num2 from num1 otherwise UNK\n",
        "\n",
        "  >>> subtract(2,3)\n",
        "  -1\n",
        "  >>> subtract('2',3)\n",
        "  'UNK'\n",
        "  \n",
        "  '''\n",
        "  result = \"UNK\"\n",
        "  if isNumber(num1) and isNumber(num2):\n",
        "    result = round((num1 - num2),6)\n",
        "  return result\n",
        "\n",
        "\n",
        "def multiply(num1, num2):\n",
        "  '''\n",
        "  Returns the multiplication of num1 and num2 otherwise UNK\n",
        "\n",
        "  >>> multiply(2,3)\n",
        "  6\n",
        "  >>> multiply('2',3)\n",
        "  'UNK'\n",
        "  \n",
        "  '''\n",
        "  result = \"UNK\"\n",
        "  if isNumber(num1) and isNumber(num2):\n",
        "    result = round((num1 * num2),6)\n",
        "  return result\n",
        "\n",
        "\n",
        "def divide(num1, num2):\n",
        "  '''\n",
        "  Returns the division num1 by num2 otherwise UNK\n",
        "\n",
        "  >>> divide(2,3)\n",
        "  0.666667\n",
        "  >>> divide('2',3)\n",
        "  'UNK'\n",
        "  \n",
        "  '''\n",
        "  result = \"UNK\"\n",
        "  if isNumber(num1) and isNumber(num2) and num2 != 0:\n",
        "    result = round((num1 / num2),6)\n",
        "  return result\n",
        "\n",
        "\n",
        "def do_math(operator, num1, num2):\n",
        "  '''\n",
        "  Return the result of 'num1 operator num2'\n",
        "\n",
        "  >>> do_math('+',1,2)\n",
        "  3\n",
        "  >>> do_math('-',1,2)\n",
        "  -1\n",
        "  >>> do_math('/',1,0)\n",
        "  'UNK'\n",
        "\n",
        "  '''\n",
        "  if operator == '+':\n",
        "    return add(num1,num2)\n",
        "  elif operator == '-':\n",
        "    return subtract(num1,num2)\n",
        "  elif operator == '*':\n",
        "    return multiply(num1,num2)\n",
        "  elif operator == '/':\n",
        "    return divide(num1,num2)"
      ]
    }
  ]
}