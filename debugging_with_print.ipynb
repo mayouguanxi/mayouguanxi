{
  "nbformat": 4,
  "nbformat_minor": 0,
  "metadata": {
    "colab": {
      "name": "debugging_with_print.ipynb",
      "provenance": [],
      "include_colab_link": true
    },
    "kernelspec": {
      "name": "python3",
      "display_name": "Python 3"
    },
    "language_info": {
      "name": "python"
    }
  },
  "cells": [
    {
      "cell_type": "markdown",
      "metadata": {
        "id": "view-in-github",
        "colab_type": "text"
      },
      "source": [
        "<a href=\"https://colab.research.google.com/github/mayouguanxi/mayouguanxi/blob/main/debugging_with_print.ipynb\" target=\"_parent\"><img src=\"https://colab.research.google.com/assets/colab-badge.svg\" alt=\"Open In Colab\"/></a>"
      ]
    },
    {
      "cell_type": "markdown",
      "source": [
        "# Debugging\n",
        "\n",
        "When you first begin to program, you make a lot of mistakes, and your code doesn’t always work!\n",
        "\n",
        "When you're a skilled programmer, you make mistakes and your code doesn’t always work.\n",
        "\n",
        "**Everyone needs debugging skills.**\n",
        "\n",
        "Debugging is the process of figuring out what is going wrong with your code.There are many ways to debug. This notebook will talk about one specific way: print statement debugging. Print statement debugging is great for beginners because it doesn't require special tools. It's a great way to develop a sense of how to debug effectively.\n",
        "\n",
        "# How to Debug With Print Statements\n",
        "\n",
        "Debugging is not just running your code. It also requires reading your code.\n",
        "\n",
        "* Read your code, and\n",
        "* Read your error messages\n",
        "\n",
        "You should have a little bit of an idea of the general area of code where your bug is occurring.  This is often acheived by matching up the output with the code associated with it.\n",
        "\n",
        "You can narrow your search from there: Place print statements so you know \"where\" you are in the code or print the valuse of variables.\n",
        "\n",
        "#### Which Variables Should You Look at?\n",
        "\n",
        "Look at the ones that seem to be misbehaving.  Put a print statement before and after an update, if the value changing as expected?\n",
        "\n",
        "You can put  a print statement inside of a for Loop so that it prints out the value every time the loop goes through.  This can show you what the value is are and how they are changing.  \n",
        "\n",
        "#### Code Excuting as expected\n",
        "\n",
        "You can put a series of numbers throughout the code. Say print one at the beginning.  Then add print statement in various palces incrementing the number.  Then run the program and look at the output.  If you see the numbers “1” “2” “3” “4” and so on then the program is execusitng as expeted. If a number is missing then you can investigate further to see whay.\n",
        "\n",
        "#### Use Sparingly\n",
        "\n",
        "Too many print statements can very quickly lead to more confusion, especially within loops.So use your print statements sparingly!\n",
        "\n",
        "\n",
        "\n",
        "# Bubble Sort\n",
        "\n",
        "Below is an implementation of the bubble sort algorithm. It iterates or loops several times over the list, and on each iteration, two adjacent values are checked and interchanged, so the bigger one is after the smaller. This makes the bigger values ascend like bubbles in the list."
      ],
      "metadata": {
        "id": "I_Mvaae0FEHh"
      }
    },
    {
      "cell_type": "code",
      "execution_count": 3,
      "metadata": {
        "id": "h8XHUWYkB-nh"
      },
      "outputs": [],
      "source": [
        "def bubble_sort(alist):\n",
        "  '''Sorts a given list in ascending order\n",
        "  >>> bubble_sort([3,4,2,1])\n",
        "  [1,2,3,4]\n",
        "  '''\n",
        "  for passnum in reversed(range(len(alist) - 1)):\n",
        "    print(\"DEBUG;alist\")#check the content of the list before each pass\n",
        "    for i in range(passnum):\n",
        "        if alist[i] > alist[i + 1]:\n",
        "              alist[i], alist[i + 1] = alist[i + 1], alist[i]\n",
        "  return alist"
      ]
    },
    {
      "cell_type": "markdown",
      "source": [
        "Let us try a few examples"
      ],
      "metadata": {
        "id": "GIaqVlKlIYo2"
      }
    },
    {
      "cell_type": "code",
      "source": [
        "bubble_sort([3,4,2,1])"
      ],
      "metadata": {
        "id": "YJ0VemjrCPv6",
        "colab": {
          "base_uri": "https://localhost:8080/"
        },
        "outputId": "8a1415e5-ae0c-4aee-907f-14575e85bfaf"
      },
      "execution_count": 4,
      "outputs": [
        {
          "output_type": "stream",
          "name": "stdout",
          "text": [
            "DEBUG;alist\n",
            "DEBUG;alist\n",
            "DEBUG;alist\n"
          ]
        },
        {
          "output_type": "execute_result",
          "data": {
            "text/plain": [
              "[2, 3, 4, 1]"
            ]
          },
          "metadata": {},
          "execution_count": 4
        }
      ]
    },
    {
      "cell_type": "code",
      "source": [
        "bubble_sort([7,1,3,4,2,6,5])"
      ],
      "metadata": {
        "id": "JgyQfUTPHefn",
        "colab": {
          "base_uri": "https://localhost:8080/"
        },
        "outputId": "5e05bc5c-89cb-47d7-d467-b3a398e00f08"
      },
      "execution_count": 5,
      "outputs": [
        {
          "output_type": "stream",
          "name": "stdout",
          "text": [
            "DEBUG;alist\n",
            "DEBUG;alist\n",
            "DEBUG;alist\n",
            "DEBUG;alist\n",
            "DEBUG;alist\n",
            "DEBUG;alist\n"
          ]
        },
        {
          "output_type": "execute_result",
          "data": {
            "text/plain": [
              "[1, 2, 3, 4, 6, 7, 5]"
            ]
          },
          "metadata": {},
          "execution_count": 5
        }
      ]
    },
    {
      "cell_type": "markdown",
      "source": [
        "This is an example of a runtime error.  The code is syntatically correct and runs, just the expected output is incorrect.\n",
        "\n",
        "It almost works, you may notice a pattern but let us use a print statement to try and trace the executation of the program.  \n",
        "\n",
        "There are lots of places you could put a print statement but in this example we will check after the list is updated."
      ],
      "metadata": {
        "id": "vc7m2XskIs4y"
      }
    },
    {
      "cell_type": "code",
      "source": [
        "def bubble_sort(alist):\n",
        "  '''Sorts a given list in ascending order\n",
        "  >>> bubble_sort([3,4,2,1])\n",
        "  [1,2,3,4]\n",
        "  '''\n",
        "  for passnum in reversed(range(len(alist) - 1)):\n",
        "    for i in range(passnum):\n",
        "        if alist[i] > alist[i + 1]:\n",
        "            alist[i], alist[i + 1] = alist[i + 1], alist[i]\n",
        "  return alist"
      ],
      "metadata": {
        "id": "umaiIrX1Iq3x"
      },
      "execution_count": null,
      "outputs": []
    },
    {
      "cell_type": "code",
      "source": [
        "bubble_sort([3,4,2,1])"
      ],
      "metadata": {
        "id": "Tg1HDnlDKCFd",
        "colab": {
          "base_uri": "https://localhost:8080/"
        },
        "outputId": "5d0c372f-f9c0-4f11-d7c1-48c4fc790528"
      },
      "execution_count": 6,
      "outputs": [
        {
          "output_type": "stream",
          "name": "stdout",
          "text": [
            "DEBUG;alist\n",
            "DEBUG;alist\n",
            "DEBUG;alist\n"
          ]
        },
        {
          "output_type": "execute_result",
          "data": {
            "text/plain": [
              "[2, 3, 4, 1]"
            ]
          },
          "metadata": {},
          "execution_count": 6
        }
      ]
    },
    {
      "cell_type": "code",
      "source": [
        "bubble_sort([7,1,3,4,2,6,5])"
      ],
      "metadata": {
        "id": "GPwW960iKHJh",
        "colab": {
          "base_uri": "https://localhost:8080/"
        },
        "outputId": "dc6ce919-7259-451f-ba1f-7ee420def6ca"
      },
      "execution_count": 7,
      "outputs": [
        {
          "output_type": "stream",
          "name": "stdout",
          "text": [
            "DEBUG;alist\n",
            "DEBUG;alist\n",
            "DEBUG;alist\n",
            "DEBUG;alist\n",
            "DEBUG;alist\n",
            "DEBUG;alist\n"
          ]
        },
        {
          "output_type": "execute_result",
          "data": {
            "text/plain": [
              "[1, 2, 3, 4, 6, 7, 5]"
            ]
          },
          "metadata": {},
          "execution_count": 7
        }
      ]
    },
    {
      "cell_type": "markdown",
      "source": [
        "Analyzing the output, we realize that the ....\n",
        "\n",
        "....  Sometimes you are sure of the fix, sometimes you have an educated guess and try a fix.\n"
      ],
      "metadata": {
        "id": "1oV7GzpmKasQ"
      }
    },
    {
      "cell_type": "code",
      "source": [
        "def bubble_sort(alist):\n",
        "  '''Sorts a given list in ascending order\n",
        "  >>> bubble_sort([3,4,2,1])\n",
        "  [1,2,3,4]\n",
        "  '''\n",
        "  for passnum in reversed(range(len(alist))):\n",
        "    print(\"DEBUG:alist\") # check the contents of the list before each pass\n",
        "    for i in range(passnum):\n",
        "        if alist[i] > alist[i + 1]:\n",
        "            alist[i], alist[i + 1] = alist[i + 1], alist[i]\n",
        "  return alist"
      ],
      "metadata": {
        "id": "AQvRLZyVKY7r"
      },
      "execution_count": 16,
      "outputs": []
    },
    {
      "cell_type": "code",
      "source": [
        "bubble_sort([3,4,2,1])"
      ],
      "metadata": {
        "id": "MIwiXjZFMsSF",
        "colab": {
          "base_uri": "https://localhost:8080/"
        },
        "outputId": "45361174-a246-4b8c-db2d-6fbd1335f1ee"
      },
      "execution_count": 17,
      "outputs": [
        {
          "output_type": "stream",
          "name": "stdout",
          "text": [
            "DEBUG:alist\n",
            "DEBUG:alist\n",
            "DEBUG:alist\n",
            "DEBUG:alist\n"
          ]
        },
        {
          "output_type": "execute_result",
          "data": {
            "text/plain": [
              "[1, 2, 3, 4]"
            ]
          },
          "metadata": {},
          "execution_count": 17
        }
      ]
    },
    {
      "cell_type": "code",
      "source": [
        "bubble_sort([7,1,3,4,2,6,5])"
      ],
      "metadata": {
        "id": "6YnvMrNEdmZw",
        "colab": {
          "base_uri": "https://localhost:8080/"
        },
        "outputId": "f6e4d22d-4d65-4611-bfd5-3879e3d765ba"
      },
      "execution_count": 18,
      "outputs": [
        {
          "output_type": "stream",
          "name": "stdout",
          "text": [
            "DEBUG:alist\n",
            "DEBUG:alist\n",
            "DEBUG:alist\n",
            "DEBUG:alist\n",
            "DEBUG:alist\n",
            "DEBUG:alist\n",
            "DEBUG:alist\n"
          ]
        },
        {
          "output_type": "execute_result",
          "data": {
            "text/plain": [
              "[1, 2, 3, 4, 5, 6, 7]"
            ]
          },
          "metadata": {},
          "execution_count": 18
        }
      ]
    },
    {
      "cell_type": "code",
      "source": [
        "bubble_sort([7,1,3,4,2,6,5])"
      ],
      "metadata": {
        "id": "_YSVgqFR-Dta",
        "outputId": "a2c5f919-49c4-45c2-d1e7-7b12871b3dbe",
        "colab": {
          "base_uri": "https://localhost:8080/"
        }
      },
      "execution_count": 19,
      "outputs": [
        {
          "output_type": "stream",
          "name": "stdout",
          "text": [
            "DEBUG:alist\n",
            "DEBUG:alist\n",
            "DEBUG:alist\n",
            "DEBUG:alist\n",
            "DEBUG:alist\n",
            "DEBUG:alist\n",
            "DEBUG:alist\n"
          ]
        },
        {
          "output_type": "execute_result",
          "data": {
            "text/plain": [
              "[1, 2, 3, 4, 5, 6, 7]"
            ]
          },
          "metadata": {},
          "execution_count": 19
        }
      ]
    },
    {
      "cell_type": "markdown",
      "source": [
        "Once you are happy it is working.  Remove or comment out the print() statement."
      ],
      "metadata": {
        "id": "142Msl3UMz08"
      }
    },
    {
      "cell_type": "code",
      "source": [
        "def bubble_sort(alist):\n",
        "  '''Sorts a given list in ascending order\n",
        "  >>> bubble_sort([3,4,2,1])\n",
        "  [1,2,3,4]\n",
        "  '''\n",
        "  pass\n",
        "  for passnum in reversed(range(len(alist))):\n",
        "    #print(\"DEBUG:alist\") # check the contents of the list before each pass\n",
        "    for i in range(passnum):\n",
        "        if alist[i] > alist[i + 1]:\n",
        "            alist[i], alist[i + 1] = alist[i + 1], alist[i]\n",
        "  return alist"
      ],
      "metadata": {
        "id": "nXGowQG7MyGp"
      },
      "execution_count": 20,
      "outputs": []
    },
    {
      "cell_type": "code",
      "source": [
        "bubble_sort([7,1,3,4,2,6,5])"
      ],
      "metadata": {
        "id": "eMNdpicmM9uF",
        "colab": {
          "base_uri": "https://localhost:8080/"
        },
        "outputId": "a40f8a4a-5ff6-44f3-a1b7-0a06eb93008d"
      },
      "execution_count": 21,
      "outputs": [
        {
          "output_type": "execute_result",
          "data": {
            "text/plain": [
              "[1, 2, 3, 4, 5, 6, 7]"
            ]
          },
          "metadata": {},
          "execution_count": 21
        }
      ]
    },
    {
      "cell_type": "code",
      "source": [
        ""
      ],
      "metadata": {
        "id": "Vkt62QK6NBQ0"
      },
      "execution_count": null,
      "outputs": []
    },
    {
      "cell_type": "code",
      "source": [
        ""
      ],
      "metadata": {
        "id": "IdgnYAi9-B86"
      },
      "execution_count": null,
      "outputs": []
    }
  ]
}