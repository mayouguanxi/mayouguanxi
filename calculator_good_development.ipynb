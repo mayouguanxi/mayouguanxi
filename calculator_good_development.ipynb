{
  "nbformat": 4,
  "nbformat_minor": 0,
  "metadata": {
    "colab": {
      "name": "calculator_good.ipynb",
      "provenance": [],
      "include_colab_link": true
    },
    "kernelspec": {
      "name": "python3",
      "display_name": "Python 3"
    },
    "language_info": {
      "name": "python"
    }
  },
  "cells": [
    {
      "cell_type": "markdown",
      "metadata": {
        "id": "view-in-github",
        "colab_type": "text"
      },
      "source": [
        "<a href=\"https://colab.research.google.com/github/mayouguanxi/mayouguanxi/blob/main/calculator_good_development.ipynb\" target=\"_parent\"><img src=\"https://colab.research.google.com/assets/colab-badge.svg\" alt=\"Open In Colab\"/></a>"
      ]
    },
    {
      "cell_type": "markdown",
      "source": [
        "# Calculator - Good Design\n",
        "\n",
        "This notebook implements the initial design from [the_calculator_walkthrough.ipynb](https://github.com/michael-borck/the_calculator_walkthrough/blob/main/calculator_walkthrough.ipynb).\n",
        "\n",
        "It makes for a good starting point. We will write a litte, test and perform frequent commits.  Through this process we will ensure that the final program will operate correctly.\n",
        "\n",
        "## What are *our* Best Practices\n",
        "\n",
        "Here are the best practices we have been applying throughout the course.\n",
        "\n",
        "1. Use a code repository (*GitHub, small frequent commits*)\n",
        "2. Follow style guidelines (*PEP8*)\n",
        "3. Correct broken code immediately (*exception handling, input validation, testing*)\n",
        "4. Use the PyPI instead of doing it yourself (*search and import module*)\n",
        "5. Use the Right Data Types and Structures (*int, float, list, etc. *)\n",
        "6. Write Readable Code (*meaningful names and comments*)\n",
        "7. Create readable documentation (*Docstrings*)\n",
        "8. Use Virtual Environments (*Google VM instance, Binder*)\n",
        "9. Avoid anti-patterns (*be specific imports, exceptions etc. *)\n",
        "10. Follow *Zen of Python* (try *import this*)\n",
        "\n",
        "## The Challenge - Simple Calculator\n",
        "\n",
        "Write a program to prompt the user to select a mathematical operation and input two numbers. The program will then operate on the two numbers and output the result. The user will be able to continue performing operations on numbers or exit the program. The arithmetic operations include: \n",
        "* addition, \n",
        "* subtraction, \n",
        "* multiplication, and \n",
        "* division. \n",
        "\n",
        "## How to use this notebook\n",
        "\n",
        "You should read the text and execute each code cell in order the first time through.  Then when you understand the program, you should copy the notebook, delete all the cells except for *The Design*, and attempt to implement the design following the best practices listed above."
      ],
      "metadata": {
        "id": "S9VStu5RRdm3"
      }
    },
    {
      "cell_type": "markdown",
      "source": [
        "# The Design\n",
        "\n",
        "    Display\n",
        "      What operation you would like to complete:\n",
        "      + for addition\n",
        "      - for subtraction\n",
        "      * for multiplication\n",
        "      / for division\n",
        "    Get answer from user and store in operation\n",
        "\n",
        "    Prompt the user for a number and store it in first_number\n",
        "    Prompt the user for a number and store it in second_number\n",
        "    \n",
        "    if operation equals '+'\n",
        "      then add first_number and second_number\n",
        "    else if operation equals '-'\n",
        "      then subtract first_number from second_number\n",
        "    else if operation equals '*'\n",
        "      then multiply first_number and second_number\n",
        "    else if operation equals '/'\n",
        "      then divide first_number by the second_number\n",
        "\n",
        "# Conversion to Python\n",
        "\n",
        "Where do you start with converting the design? The answer is anywhere. A good strategy is to implement something you understand. It doesn't matter if it is a small part; start and build on that. \n",
        "\n",
        "We will test the code as we implement it. Sometimes, there may be parts of the design you need but haven't imlemented yet to perform a test. In these cases, we will create temporary variables with suitable values so we can test our code.\n",
        "\n",
        "We will use the design as comments. This method will also help us track what parts of the design we have completed.\n",
        "\n",
        "We will take a trial and error approach and implement snippets in different cells for development. When we are happy with the code, we will collate all the snippets into one cell. You would either generate a new notebook with the finished product or delete all the unnecessary snippets for production."
      ],
      "metadata": {
        "id": "xw1U-nFeYzE8"
      }
    },
    {
      "cell_type": "markdown",
      "source": [
        "# Step 1 - Prompt the user for a number\n",
        "We will start writing your program at the point where the human enters the numbers. Copy the following line ```Prompt the user for a number and store it in first_number```from the design and paste it into a code cell as a comment.\n",
        "\n",
        "We can do this by using Python’s built-in input() function to accept user-generated input from the keyboard. Inside of the parentheses of the input() function you can pass a string to prompt the user, and then assign the user’s input to a variable. It can be helpful to include a space at the end of your string so that there is a space between the user’s input and the prompting string:\n",
        "\n",
        "Clear all cell outputs and commit this notebook. Don't forget to include a commit message and ensure to tick the ```Include a link to Colaboratory``` checkbox."
      ],
      "metadata": {
        "id": "uSEilJ0sloBs"
      }
    },
    {
      "cell_type": "code",
      "execution_count": null,
      "metadata": {
        "id": "WXFZb07UQ3ZV"
      },
      "outputs": [],
      "source": [
        "# Prompt the user for a number and store it in first_number\n",
        "first_number = input('Please enter your first number ')"
      ]
    },
    {
      "cell_type": "markdown",
      "source": [
        "Well the seemd to work.  One way to check is to use the print() function to display the contents of ```first_number``"
      ],
      "metadata": {
        "id": "cHwHsfe2nyQu"
      }
    },
    {
      "cell_type": "code",
      "source": [
        "print(first_number)"
      ],
      "metadata": {
        "id": "4PC5XYFUnsYC"
      },
      "execution_count": null,
      "outputs": []
    },
    {
      "cell_type": "markdown",
      "source": [
        "Okay, looking good. \n",
        "\n",
        "Clear all cell outputs and save this notebook. It is essential to clear cell outputs before saving. Otherwise, this can store a lot of unnecessary changes in the GitHub repository.\n",
        "\n",
        "But we can enter whatever you want when prompted. This is because ```input()``` takes data in as strings and doesn’t know that you’re looking for numbers.\n",
        "\n",
        "We want to use numbers in this program for to enable the program to perform mathematical calculations.  So we need to validate that the user’s input is a numerical string.  We can wrap the ```input()``` function in the ```int()``` function to convert the input to the integer data type.  \n",
        "\n",
        "Lets try the wrapper verison.  We can use the ```type()``` function to check it is an integer."
      ],
      "metadata": {
        "id": "aQZbMFGxoIC5"
      }
    },
    {
      "cell_type": "code",
      "source": [
        "# Prompt the user for a number and store it in first_number\n",
        "first_number = int(input('Please enter your first number '))\n",
        "print(first_number)\n",
        "print(type(first_number))"
      ],
      "metadata": {
        "id": "mQlybGMvoFTQ"
      },
      "execution_count": null,
      "outputs": []
    },
    {
      "cell_type": "markdown",
      "source": [
        "But what about numbers like 2.31456? \n"
      ],
      "metadata": {
        "id": "JHC3owchqMtG"
      }
    },
    {
      "cell_type": "code",
      "source": [
        "# Prompt the user for a number and store it in first_number\n",
        "first_number = int(input('Please enter your first number '))\n",
        "print(first_number)\n",
        "print(type(first_number))"
      ],
      "metadata": {
        "id": "7I4-5AejqJhe"
      },
      "execution_count": null,
      "outputs": []
    },
    {
      "cell_type": "markdown",
      "source": [
        "Umm... an exception is thrown.  This is not good.  Perhaps we can use a ```float()```.  For our Calculator it doesn't matter if 2 is 2.0, inface using floats will give us greater precision."
      ],
      "metadata": {
        "id": "TH5FaWZSqVR0"
      }
    },
    {
      "cell_type": "code",
      "source": [
        "# Prompt the user for a number and store it in first_number\n",
        "first_number = float(input('Please enter your first number '))\n",
        "print(first_number)\n",
        "print(type(first_number))"
      ],
      "metadata": {
        "id": "q4xqr_QiqTB0"
      },
      "execution_count": null,
      "outputs": []
    },
    {
      "cell_type": "markdown",
      "source": [
        "That seems to be working.\n",
        "\n",
        "We should have saved to GitHub a few cells earlier. Never mind, clear all cell outputs and commit this notebook. Don't forget to include a commit message!\n",
        "\n",
        "What happens if we don't type in a number? Will it still work?"
      ],
      "metadata": {
        "id": "JvYWFfNzrhqf"
      }
    },
    {
      "cell_type": "code",
      "source": [
        "# Prompt the user for a number and store it in first_number\n",
        "first_number = float(input('Please enter your first number '))\n",
        "print(first_number)\n",
        "print(type(first_number))"
      ],
      "metadata": {
        "id": "nE7Rrd1SrfBI"
      },
      "execution_count": null,
      "outputs": []
    },
    {
      "cell_type": "markdown",
      "source": [
        "Umm. another exception.  If you click on ```Search Stack Overflow``` button and read through some of the links (perhaps recall form lectures) we can use a try/except block to capture the exception and then decide what to do."
      ],
      "metadata": {
        "id": "zhwpWuXZsbpb"
      }
    },
    {
      "cell_type": "code",
      "source": [
        "try: \n",
        "  # Prompt the user for a number and store it in first_number\n",
        "  first_number = float(input('Please enter your first number '))\n",
        "  print(first_number)\n",
        "except ValueError:\n",
        "  print(\"I can't process words, please input a number using the digits\")"
      ],
      "metadata": {
        "id": "jLQEQp6lsXg8"
      },
      "execution_count": null,
      "outputs": []
    },
    {
      "cell_type": "markdown",
      "source": [
        "Okay, that kinda works, but we need to go back and prompt the user again.  In python we can do this using a while loop.  We will use a [Python idiom](https://intermediate-and-advanced-software-carpentry.readthedocs.io/en/latest/idiomatic-python.html#:~:text=Idiomatic%20Python%20is%20what%20you,extraneous%20to%20your%20real%20problem.) ```while true``` to continue prompt the use until a number is entered."
      ],
      "metadata": {
        "id": "V4yfxTSYtkA2"
      }
    },
    {
      "cell_type": "code",
      "source": [
        "while True:\n",
        "  try: \n",
        "    # Prompt the user for a number and store it in first_number\n",
        "    first_number = float(input('Please enter your first number '))\n",
        "    print(first_number)\n",
        "    break\n",
        "  except ValueError:\n",
        "    print(\"I can't process words, please input a number using the digits\")"
      ],
      "metadata": {
        "id": "4zSVaa_6tgUV"
      },
      "execution_count": null,
      "outputs": []
    },
    {
      "cell_type": "markdown",
      "source": [
        "That works but looks a bit messy.  Is there a better way.  Maybe someone has solved this problem before.\n",
        "\n",
        "Clear all cell outputs and commit this notebook. \n",
        "\n",
        "Then search the internet for PyInputPlus"
      ],
      "metadata": {
        "id": "4Pr3byE9wPv3"
      }
    },
    {
      "cell_type": "markdown",
      "source": [
        "The PyInputPlus module looks perfect, specifically ```inputNum()``` function form the package. Copy the install instructions for PyPi and paste below to install the package. This is an example of applying Best Practice number 4"
      ],
      "metadata": {
        "id": "gIf5mYc2w8IW"
      }
    },
    {
      "cell_type": "code",
      "source": [
        "!pip install PyInputPlus"
      ],
      "metadata": {
        "id": "0CBSwdytwGhb"
      },
      "execution_count": null,
      "outputs": []
    },
    {
      "cell_type": "code",
      "source": [
        "import pyinputplus as pyip\n",
        "first_number = pyip.inputNum(\"Please enter the first number \")\n",
        "print(first_number)\n",
        "print(type(first_number))"
      ],
      "metadata": {
        "id": "BlDJoLGIyjcA"
      },
      "execution_count": null,
      "outputs": []
    },
    {
      "cell_type": "markdown",
      "source": [
        "Try the above a few time and convience youself that you can input numbers. When happy, clear the outputs and commit this notebook."
      ],
      "metadata": {
        "id": "3hiYJkcQz9-a"
      }
    },
    {
      "cell_type": "code",
      "source": [
        "import pyinputplus as pyip\n",
        "\n",
        "# Prompt the user for a number and store it in first_number\n",
        "first_number = pyip.inputNum(\"Please enter the first number \")\n",
        "\n",
        "#Prompt the user for a number and store it in second_number\n",
        "second_number = pyip.inputNum(\"Please enter the second number \")\n"
      ],
      "metadata": {
        "id": "NfVAmF09y3Ja"
      },
      "execution_count": null,
      "outputs": []
    },
    {
      "cell_type": "markdown",
      "source": [
        "We have input for first and second number working.   Next we will work on the big if-else block i the design.\n",
        "\n",
        "But first, clear outputs and commit this notebook.\n"
      ],
      "metadata": {
        "id": "G5s8GhRX2wnC"
      }
    },
    {
      "cell_type": "markdown",
      "source": [
        "## Step 2 Implement operators\n",
        "\n",
        "We want to to implement this large block from the design.\n",
        "\n",
        "    if operation equals '+'\n",
        "      then add first_number and second_number\n",
        "    else if operation equals '-'\n",
        "      then subtract first_number from second_number\n",
        "    else if operation equals '*'\n",
        "      then multiply first_number and second_number\n",
        "    else if operation equals '/'\n",
        "      then divide first_number by the second_number\n",
        "\n",
        "Rather than try to do the whole block let's consider the the true branch of each operator.  \n",
        "\n",
        "      add first_number and second_number\n",
        "      \n",
        "      subtract first_number from second_number\n",
        "      \n",
        "      multiply first_number and second_number\n",
        "      \n",
        "      divide first_number by the second_number\n",
        "\n",
        "So we will test, add, subtract, multiple and divide.\n",
        "\n",
        "But... What is the output?  The design doesn't specify what is to be displayed to the screen.\n",
        "\n",
        "> *Note: Missing design functinality is often discoverd at implementation or testing.  When doing a design you may not think of everything.*\n",
        "\n",
        "So lets update our design:\n",
        "\n",
        "      add first_number and second_number and store in result\n",
        "      display 'first_number + second_number = result'\n",
        "\n",
        "      subtract first_number from second_number and store in result\n",
        "      display 'first_number - second_number = result'\n",
        "      \n",
        "      multiply first_number and second_number and store in result\n",
        "      display 'first_number * second_number = result'\n",
        "      \n",
        "      divide first_number by the second_number and store in result\n",
        "      display 'first_number / second_number = result'\n",
        "\n",
        "\n",
        "Clear outputs and commit this notebook to your repository.\n",
        "\n",
        "Now lets get add working.  We will copy the input statements from above and perform the addition operation."
      ],
      "metadata": {
        "id": "BkAbi0MD47Rz"
      }
    },
    {
      "cell_type": "code",
      "source": [
        "import pyinputplus as pyip\n",
        "\n",
        "# Prompt the user for a number and store it in first_number\n",
        "first_number = pyip.inputNum(\"Please enter the first number \")\n",
        "\n",
        "#Prompt the user for a number and store it in second_number\n",
        "second_number = pyip.inputNum(\"Please enter the second number \")\n",
        "\n",
        "# add first_number and second_number and store in result\n",
        "result = first_number + second_number\n",
        "\n",
        "# display 'first_number + second_number = result'\n",
        "print(first_number + ' + ' + second_number + ' = ' + result)"
      ],
      "metadata": {
        "id": "bVpq3jL-7jPW"
      },
      "execution_count": null,
      "outputs": []
    },
    {
      "cell_type": "markdown",
      "source": [
        "Umm.. another exception.  Reading the error, or clicking the ```Search Stack Overflow```, or doing a search or from experience we work out we need to convert the variable to string with the ```str()``` function."
      ],
      "metadata": {
        "id": "UqnP-OtE9Lip"
      }
    },
    {
      "cell_type": "code",
      "source": [
        "import pyinputplus as pyip\n",
        "\n",
        "# Prompt the user for a number and store it in first_number\n",
        "first_number = pyip.inputNum(\"Please enter the first number \")\n",
        "\n",
        "#Prompt the user for a number and store it in second_number\n",
        "second_number = pyip.inputNum(\"Please enter the second number \")\n",
        "\n",
        "# add first_number and second_number and store in result\n",
        "result = first_number + second_number\n",
        "\n",
        "# display 'first_number + second_number = result'\n",
        "print(str(first_number) + ' + ' + str(second_number) + ' = ' + str(result))"
      ],
      "metadata": {
        "id": "NCSdg9Ec9I4O"
      },
      "execution_count": null,
      "outputs": []
    },
    {
      "cell_type": "markdown",
      "source": [
        "That works, but can improve the output?\n",
        "\n",
        "First, clear the outputs and commit this notebook.\n",
        "\n",
        "Reading the text book or some independent research we discover the string formatting.  String formatting is the process of inserting a custom string or variable in predefined template.  See [this guide](https://realpython.com/python-formatted-output/) or [Formatting Best Practices](https://realpython.com/python-string-formatting/) for more information.\n",
        "\n",
        "We build a string template with placeholders.  These placeholders are identified using cury brackets ```{}```.  Then using the string ```format()``` method we provide the matching variables."
      ],
      "metadata": {
        "id": "1eBtSr76-DLB"
      }
    },
    {
      "cell_type": "code",
      "source": [
        "import pyinputplus as pyip\n",
        "\n",
        "# Prompt the user for a number and store it in first_number\n",
        "first_number = pyip.inputNum(\"Please enter the first number \")\n",
        "\n",
        "#Prompt the user for a number and store it in second_number\n",
        "second_number = pyip.inputNum(\"Please enter the second number \")\n",
        "\n",
        "# add first_number and second_number and store in result\n",
        "result = first_number + second_number\n",
        "\n",
        "# display 'first_number + second_number = result'\n",
        "template = '{} + {} = {}'\n",
        "print(template.format(first_number, second_number, result))"
      ],
      "metadata": {
        "id": "pXAOMxHK99f_"
      },
      "execution_count": null,
      "outputs": []
    },
    {
      "cell_type": "markdown",
      "source": [
        "At this point, we can add the rest of the operators.  We will update the template for each operator.\n",
        "\n",
        "But, you shold know the drill by now.  Clear the outputs and commit this notebook."
      ],
      "metadata": {
        "id": "M0KYjxxODxN6"
      }
    },
    {
      "cell_type": "code",
      "source": [
        "import pyinputplus as pyip\n",
        "\n",
        "# Prompt the user for a number and store it in first_number\n",
        "first_number = pyip.inputNum(\"Please enter the first number \")\n",
        "#Prompt the user for a number and store it in second_number\n",
        "second_number = pyip.inputNum(\"Please enter the second number \")\n",
        "\n",
        "# add first_number and second_number and store in result\n",
        "result = first_number + second_number\n",
        "# display 'first_number + second_number = result'\n",
        "template = '{} + {} = {}'\n",
        "print(template.format(first_number, second_number, result))\n",
        "\n",
        "# subtract first_number from second_number and store in result\n",
        "result = first_number - second_number\n",
        "# display 'first_number - second_number = result'\n",
        "template = '{} - {} = {}'\n",
        "print(template.format(first_number, second_number, result))\n",
        "\n",
        "# multiply first_number and second_number and store in result\n",
        "result = first_number * second_number\n",
        "# display 'first_number * second_number = result'\n",
        "template = '{} * {} = {}'\n",
        "print(template.format(first_number, second_number, result))\n",
        "\n",
        "# divide first_number by the second_number and store in result\n",
        "result = first_number / second_number\n",
        "# display 'first_number / second_number = result'\n",
        "template = '{} / {} = {}'\n",
        "print(template.format(first_number, second_number, result))\n"
      ],
      "metadata": {
        "id": "Bj2eB6h1Dj1i"
      },
      "execution_count": null,
      "outputs": []
    },
    {
      "cell_type": "markdown",
      "source": [
        "That is getting a little long and looks very repetitive.  Next, we will implement conditional branching and see if we can simplify the code.\n",
        "\n",
        "Clear the outputs and commit the notebook."
      ],
      "metadata": {
        "id": "Igr4ofsQFJEd"
      }
    },
    {
      "cell_type": "markdown",
      "source": [
        "# Step 3 — Adding Conditional Statements\n",
        "\n",
        "The goal of the program is for the user to select one of four athematical operations to apply to two numbers.  We don't have a way to get that input form the user at the moment.  This is okay, we will use a dummy variable to simulate the input.  This will allow use to build the conditional structure.\n"
      ],
      "metadata": {
        "id": "1lnZWm2SGunj"
      }
    },
    {
      "cell_type": "code",
      "source": [
        "import pyinputplus as pyip\n",
        "\n",
        "# Create a dummy varaible to simulate the user intput\n",
        "operator = '-' # Change this to +,-,*, or / to test each of the opertors.\n",
        "\n",
        "# Prompt the user for a number and store it in first_number\n",
        "first_number = pyip.inputNum(\"Please enter the first number \")\n",
        "\n",
        "#Prompt the user for a number and store it in second_number\n",
        "second_number = pyip.inputNum(\"Please enter the second number \")\n",
        "\n",
        "if operator == '+':\n",
        "  # add first_number and second_number and store in result\n",
        "  result = first_number + second_number\n",
        "  # display 'first_number + second_number = result'\n",
        "  template = '{} + {} = {}'\n",
        "  print(template.format(first_number, second_number, result))\n",
        "\n",
        "elif operator == '-':\n",
        "  # subtract first_number from second_number and store in result\n",
        "  result = first_number - second_number\n",
        "  # display 'first_number - second_number = result'\n",
        "  template = '{} - {} = {}'\n",
        "  print(template.format(first_number, second_number, result))\n",
        "\n",
        "elif operator == '*':\n",
        "  # multiply first_number and second_number and store in result\n",
        "  result = first_number * second_number\n",
        "  # display 'first_number * second_number = result'\n",
        "  template = '{} * {} = {}'\n",
        "  print(template.format(first_number, second_number, result))\n",
        "\n",
        "elif operator == '/':\n",
        "  # divide first_number by the second_number and store in result\n",
        "  result = first_number / second_number\n",
        "  # display 'first_number / second_number = result'\n",
        "  template = '{} / {} = {}'\n",
        "  print(template.format(first_number, second_number, result))\n",
        "\n"
      ],
      "metadata": {
        "id": "7ozK56C-E0cA"
      },
      "execution_count": null,
      "outputs": []
    },
    {
      "cell_type": "markdown",
      "source": [
        "Run the code cell above a few times, manually changing the operator character to test each branch.\n",
        "\n",
        "Notice that for each branch, all that changes is the templare. The print statement is the same for all branches of the ```if-elif``` structure. So let uses the branching to update the template and move the print statement to after the ```if-elif``` structure.\n",
        "\n",
        "The comments are distracting and in some places are stating the obvious. We will refactor the comments. \n",
        "\n",
        "But first, clear the outputs and commit the notebook."
      ],
      "metadata": {
        "id": "aCo6X22HJB3G"
      }
    },
    {
      "cell_type": "code",
      "source": [
        "''' \n",
        "This program will prompt the user to select a mathematical operation and input \n",
        "two numbers. The program will then perform the operation on the two numbers and\n",
        "output the result to the screen. The user will be able to continue performing \n",
        "operations on numbers or exit the program. The arithmetic operations include:\n",
        "   * addition,\n",
        "   * subtraction,\n",
        "   * multiplication, and\n",
        "   * division.\n",
        "'''\n",
        "import pyinputplus as pyip\n",
        "\n",
        "# Create a dummy varaible to simulate the user intput\n",
        "operator = '-' # Change this to +,-,*, or / to test each of the opertors.\n",
        "\n",
        "# Get the numbers from the user\n",
        "first_number = pyip.inputNum(\"Please enter the first number \")\n",
        "second_number = pyip.inputNum(\"Please enter the second number \")\n",
        "\n",
        "# Perform the operation\n",
        "if operator == '+':\n",
        "  result = first_number + second_number\n",
        "  template = '{} + {} = {}'\n",
        "elif operator == '-':\n",
        "  result = first_number - second_number\n",
        "  template = '{} - {} = {}'\n",
        "elif operator == '*':\n",
        "  result = first_number * second_number\n",
        "  template = '{} * {} = {}'\n",
        "elif operator == '/':\n",
        "  result = first_number / second_number\n",
        "  template = '{} / {} = {}'\n",
        "\n",
        "print(template.format(first_number, second_number, result))\n",
        "\n"
      ],
      "metadata": {
        "id": "mRjAqX0nI5Is"
      },
      "execution_count": null,
      "outputs": []
    },
    {
      "cell_type": "markdown",
      "source": [
        "Run the code cell above a few time to convience youself it works for each operator.  Note we added a comment describing each step and the program.\n",
        "\n",
        "We are almost finished, just need to display a menu of available operators.\n",
        "\n",
        "Clear the outputs and commit the notebook."
      ],
      "metadata": {
        "id": "rFhGjoVLL9hI"
      }
    },
    {
      "cell_type": "markdown",
      "source": [
        "# Step 4 - Add menu\n",
        "\n",
        "After some searching on he web, you discovered that PyInputPlus can also display a simple menu.\n",
        "PyInputPlus"
      ],
      "metadata": {
        "id": "f0ldFLmAOFPo"
      }
    },
    {
      "cell_type": "code",
      "source": [
        "dir(pyip)"
      ],
      "metadata": {
        "id": "p3hy0AxtUYON"
      },
      "execution_count": null,
      "outputs": []
    },
    {
      "cell_type": "markdown",
      "source": [
        "Umm... inputMenu() and inputChoice() look interesting"
      ],
      "metadata": {
        "id": "fM_LJC4zUb_1"
      }
    },
    {
      "cell_type": "code",
      "source": [
        "help(pyip.inputMenu)"
      ],
      "metadata": {
        "id": "AlEPjAG3L5sy"
      },
      "execution_count": null,
      "outputs": []
    },
    {
      "cell_type": "code",
      "source": [
        "help(pyip.inputChoice)"
      ],
      "metadata": {
        "id": "8fQRIhAtUi4E"
      },
      "execution_count": null,
      "outputs": []
    },
    {
      "cell_type": "markdown",
      "source": [
        "Let try out a inputMenu()"
      ],
      "metadata": {
        "id": "1McJGSR8Q44c"
      }
    },
    {
      "cell_type": "code",
      "source": [
        "choices = ['+','-','*','/']\n",
        "prompt = \"What operation you would like to complete?\"\n",
        "pyip.inputMenu(choices, prompt=prompt)"
      ],
      "metadata": {
        "id": "onv9CqwtN4i-"
      },
      "execution_count": null,
      "outputs": []
    },
    {
      "cell_type": "markdown",
      "source": [
        "Umm... it is putting the first option immediately after the prompt. I will need a newline character at the end of the prompt.\n",
        "\n",
        "A newline character consists of two characters, ```\\n```. Here the ```\\``` is known as the escape character. It means the character immediately following has a special meaning. The ```n``` doesn't mean the letter n; instead, it means inserting a new line in the string.\n"
      ],
      "metadata": {
        "id": "BbxEma3iQ7xQ"
      }
    },
    {
      "cell_type": "code",
      "source": [
        "choices = ['+','-','*','/']\n",
        "prompt = \"What operation you would like to complete? \\n\"\n",
        "pyip.inputMenu(choices, prompt=prompt)"
      ],
      "metadata": {
        "id": "9dTh38g8QyEm"
      },
      "execution_count": null,
      "outputs": []
    },
    {
      "cell_type": "markdown",
      "source": [
        "But the PyInputPlus menu is different from the design.  Does this matter?  If the design was an agreement between you and your client or employer, then yes, it matters, and you would have to renegotiate the design with the contract.\n",
        "\n",
        "If the design is just for you, then you can decide.  Because this notebook's purpose is to practice your skill, I will go with the changed menu.\n",
        "\n",
        "Clear the output and commit the notebook to you repository.\n"
      ],
      "metadata": {
        "id": "9o2GQcYCSIlf"
      }
    },
    {
      "cell_type": "code",
      "source": [
        "''' \n",
        "This program will prompt the user to select a mathematical operation and input \n",
        "two numbers. The program will then perform the operation on the two numbers and\n",
        "output the result to the screen. The user will be able to continue performing \n",
        "operations on numbers or exit the program. The arithmetic operations include:\n",
        "   * addition,\n",
        "   * subtraction,\n",
        "   * multiplication, and\n",
        "   * division.\n",
        "'''\n",
        "import pyinputplus as pyip\n",
        "\n",
        "# Display the menu and get the users choice\n",
        "choices = ['+','-','*','/']\n",
        "prompt = \"What operation you would like to complete? \\n\"\n",
        "operator = pyip.inputMenu(choices, prompt=prompt)\n",
        "\n",
        "# Get the numbers from the user\n",
        "first_number = pyip.inputNum(\"Please enter the first number \")\n",
        "second_number = pyip.inputNum(\"Please enter the second number \")\n",
        "\n",
        "# Perform the operation\n",
        "if operator == '+':\n",
        "  result = first_number + second_number\n",
        "  template = '{} + {} = {}'\n",
        "elif operator == '-':\n",
        "  result = first_number - second_number\n",
        "  template = '{} - {} = {}'\n",
        "elif operator == '*':\n",
        "  result = first_number * second_number\n",
        "  template = '{} * {} = {}'\n",
        "elif operator == '/':\n",
        "  result = first_number / second_number\n",
        "  template = '{} / {} = {}'\n",
        "\n",
        "print(template.format(first_number, second_number, result))"
      ],
      "metadata": {
        "id": "_jRLsiSZSC5Q"
      },
      "execution_count": null,
      "outputs": []
    },
    {
      "cell_type": "markdown",
      "source": [
        "# Step 5 - Perform Multiple Operations\n",
        "\n",
        "Are we done?  We quickly check the requirements:\n",
        "\n",
        ">Write a program to prompt the user to select a mathematical operation and input two numbers. The program will then operate on the two numbers and output the result. **The user will be able to continue performing operations on numbers or exit the program**. The arithmetic operations include: \n",
        "* addition, \n",
        "* subtraction, \n",
        "* multiplication, and \n",
        "* division.\n",
        "\n",
        "We don't seem to have a way for the user to perform the text in bold.  How can the user perform a second or third operation withou rerunning the program.\n",
        "\n",
        "What do we need.  Well after an operatin if performed, we need to ask the user if they want to continue or exit.   If feel like a ```if```` statement, but we need a loop. Similer to how we initially processed the input we use the ```while True``` Python idiom. \n",
        "\n",
        "      while True:\n",
        "        # do the calculator program\n",
        "        answer = ask user if want to continue or exit\n",
        "        if exit:\n",
        "           break\n",
        "\n"
      ],
      "metadata": {
        "id": "2wfhFVOvTmrv"
      }
    },
    {
      "cell_type": "code",
      "source": [
        "help(pyip.inputYesNo)"
      ],
      "metadata": {
        "id": "NKgdHeseTiOK"
      },
      "execution_count": null,
      "outputs": []
    },
    {
      "cell_type": "code",
      "source": [
        "prompt=\"Do you want to continue?\"\n",
        "pyip.inputYesNo(prompt=prompt)"
      ],
      "metadata": {
        "id": "_m-LvEg_UF_X"
      },
      "execution_count": null,
      "outputs": []
    },
    {
      "cell_type": "markdown",
      "source": [
        "That looks like what we want.  Lets make up a dummy loop and see if we can continur or exit"
      ],
      "metadata": {
        "id": "yZP5qgsLWk7x"
      }
    },
    {
      "cell_type": "code",
      "source": [
        "while True:\n",
        "  print('inside while loop')\n",
        "  result = pyip.inputYesNo(prompt=\"Do you want to continue? \")\n",
        "  if result == 'no':\n",
        "    break\n"
      ],
      "metadata": {
        "id": "xfhujcvDWY7Y"
      },
      "execution_count": null,
      "outputs": []
    },
    {
      "cell_type": "markdown",
      "source": [
        "Run the above cell.  Convience you sel it works for 'Yes', 'No', 'yes', 'y', 'Y' or any sane way to answer yes or no.\n",
        "\n",
        "Okay, that seem to be working.  Lets add a simple welcome message, wrap the program inside a while lopp and print a nice exit message."
      ],
      "metadata": {
        "id": "rs8CZnSyXj5J"
      }
    },
    {
      "cell_type": "code",
      "source": [
        "''' \n",
        "This program will prompt the user to select a mathematical operation and input \n",
        "two numbers. The program will then perform the operation on the two numbers and\n",
        "output the result to the screen. The user will be able to continue performing \n",
        "operations on numbers or exit the program. The arithmetic operations include:\n",
        "   * addition,\n",
        "   * subtraction,\n",
        "   * multiplication, and\n",
        "   * division.\n",
        "'''\n",
        "import pyinputplus as pyip\n",
        "\n",
        "print(\"Welcome to Simple Calculator\")\n",
        "while True:\n",
        "  # Display the menu and get the users choice\n",
        "  choices = ['+','-','*','/']\n",
        "  prompt = \"What operation you would like to complete? \\n\"\n",
        "  operator = pyip.inputMenu(choices, prompt=prompt)\n",
        "\n",
        "  # Get the numbers from the user\n",
        "  first_number = pyip.inputNum(\"Please enter the first number \")\n",
        "  second_number = pyip.inputNum(\"Please enter the second number \")\n",
        "\n",
        "  # Perform the operation\n",
        "  if operator == '+':\n",
        "    result = first_number + second_number\n",
        "    template = '{} + {} = {}'\n",
        "  elif operator == '-':\n",
        "    result = first_number - second_number\n",
        "    template = '{} - {} = {}'\n",
        "  elif operator == '*':\n",
        "    result = first_number * second_number\n",
        "    template = '{} * {} = {}'\n",
        "  elif operator == '/':\n",
        "    result = first_number / second_number\n",
        "    template = '{} / {} = {}'\n",
        "\n",
        "  print(template.format(first_number, second_number, result))\n",
        "  answer = pyip.inputYesNo(prompt=\"Do you want to continue? \")\n",
        "  if answer == 'no':\n",
        "    print(\"Thank you for using Simple Calculator\")\n",
        "    break"
      ],
      "metadata": {
        "id": "QMvGfVXgW6kx"
      },
      "execution_count": null,
      "outputs": []
    },
    {
      "cell_type": "markdown",
      "source": [
        "Clear the outputs and commit the notebook to your repository.\n",
        "\n",
        "# Testing\n",
        "\n",
        "Now using the test-table from [the_calculator_walkthrough.ipynb](https://github.com/michael-borck/the_calculator_walkthrough/blob/main/calculator_walkthrough.ipynb) and test the program.\n",
        "\n",
        "PyInputPlus provided strong validation, so we can't get 'UNK'. We should update the test table accordingly. But the divide by zero will fail. I will leave it as an exercise, but as a hint, you only need to modify the branch of the divide operation.\n",
        "\n",
        "# Development verse Production\n",
        "\n",
        "This notebook is not ready to be shared.  As an instructional tool, it serves to show the development process.  If you wanted to distribute the notebook, you would delete all unnecessary cells and text or create a new notebook with some introductory text and the program.\n",
        "\n",
        "We will look at other ways to distribute your programs, but for now, sharing the GitHub link is the easiest option.  Here is a link to the [production verison](https://github.com/michael-borck/the_calculator_walkthrough/blob/main/calculator_good_production.ipynb) of this notebook.\n",
        "\n",
        "\n",
        "# Conclusion\n",
        "\n",
        "Can this be improved? Yes, we did validation but no accurate testing. I have already mentioned the divide by zero problems. Have a look at the following notebooks for alternative implementations.\n",
        "\n",
        "* [calculator_better.ipynb](https://github.com/michael-borck/the_calculator_walkthrough/blob/main/calculator_better.ipynb) create a sing notebook but uses functions and testing.\n",
        "* [calculator_best.ipynb](https://github.com/michael-borck/the_calculator_walkthrough/blob/main/calculator_best.ipynb) take the functions further and create modules.\n"
      ],
      "metadata": {
        "id": "HEBL0e4PcFqF"
      }
    },
    {
      "cell_type": "code",
      "source": [
        ""
      ],
      "metadata": {
        "id": "8LfRyK37dbp_"
      },
      "execution_count": null,
      "outputs": []
    }
  ]
}