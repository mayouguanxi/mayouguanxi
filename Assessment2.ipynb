{
  "nbformat": 4,
  "nbformat_minor": 0,
  "metadata": {
    "colab": {
      "name": "Assessment2.ipynb",
      "provenance": [],
      "authorship_tag": "ABX9TyMkuomRdPEKFNPCGOvnS8ue",
      "include_colab_link": true
    },
    "kernelspec": {
      "name": "python3",
      "display_name": "Python 3"
    },
    "language_info": {
      "name": "python"
    }
  },
  "cells": [
    {
      "cell_type": "markdown",
      "metadata": {
        "id": "view-in-github",
        "colab_type": "text"
      },
      "source": [
        "<a href=\"https://colab.research.google.com/github/mayouguanxi/mayouguanxi/blob/main/Assessment2.ipynb\" target=\"_parent\"><img src=\"https://colab.research.google.com/assets/colab-badge.svg\" alt=\"Open In Colab\"/></a>"
      ]
    },
    {
      "cell_type": "code",
      "execution_count": 2,
      "metadata": {
        "colab": {
          "base_uri": "https://localhost:8080/"
        },
        "id": "4S4dUhopm_N0",
        "outputId": "3a47e8b5-09b3-472f-c4ed-76120750ee00"
      },
      "outputs": [
        {
          "output_type": "stream",
          "name": "stdout",
          "text": [
            "--2022-05-28 14:07:37--  https://curtin-my.sharepoint.com/:u:/g/personal/211934g_curtin_edu_au/EaYagsqa2r1Bi5wtHbswGFwBH2kd2uTnz6rlka7GI36GUQ?download=1\n",
            "Resolving curtin-my.sharepoint.com (curtin-my.sharepoint.com)... 13.107.136.9, 13.107.138.9\n",
            "Connecting to curtin-my.sharepoint.com (curtin-my.sharepoint.com)|13.107.136.9|:443... connected.\n",
            "HTTP request sent, awaiting response... 302 Found\n",
            "Location: /personal/211934g_curtin_edu_au/Documents/ISYS2001-Assignment-2-Data/enron_sqlite3.db?ga=1 [following]\n",
            "--2022-05-28 14:07:40--  https://curtin-my.sharepoint.com/personal/211934g_curtin_edu_au/Documents/ISYS2001-Assignment-2-Data/enron_sqlite3.db?ga=1\n",
            "Reusing existing connection to curtin-my.sharepoint.com:443.\n",
            "HTTP request sent, awaiting response... 200 OK\n",
            "Length: 853819392 (814M) [application/octet-stream]\n",
            "Saving to: ‘enron.db’\n",
            "\n",
            "enron.db            100%[===================>] 814.27M  47.9MB/s    in 21s     \n",
            "\n",
            "2022-05-28 14:08:01 (38.3 MB/s) - ‘enron.db’ saved [853819392/853819392]\n",
            "\n"
          ]
        }
      ],
      "source": [
        "!wget -O enron.db https://curtin-my.sharepoint.com/:u:/g/personal/211934g_curtin_edu_au/EaYagsqa2r1Bi5wtHbswGFwBH2kd2uTnz6rlka7GI36GUQ?download=1"
      ]
    },
    {
      "cell_type": "code",
      "source": [
        "!wget -O extract.db https://curtin-my.sharepoint.com/:u:/g/personal/211934g_curtin_edu_au/EbNeFqkc_g1EmQZzAKqc_w8BYeUTUVyexiSsmDbZb1EqAQ?download=1"
      ],
      "metadata": {
        "colab": {
          "base_uri": "https://localhost:8080/"
        },
        "id": "bw9iYBp0oLX7",
        "outputId": "2e97eaaa-ce0a-493b-ba9a-bbecc0c01ed8"
      },
      "execution_count": 3,
      "outputs": [
        {
          "output_type": "stream",
          "name": "stdout",
          "text": [
            "--2022-05-28 14:08:31--  https://curtin-my.sharepoint.com/:u:/g/personal/211934g_curtin_edu_au/EbNeFqkc_g1EmQZzAKqc_w8BYeUTUVyexiSsmDbZb1EqAQ?download=1\n",
            "Resolving curtin-my.sharepoint.com (curtin-my.sharepoint.com)... 13.107.136.9, 13.107.138.9\n",
            "Connecting to curtin-my.sharepoint.com (curtin-my.sharepoint.com)|13.107.136.9|:443... connected.\n",
            "HTTP request sent, awaiting response... 302 Found\n",
            "Location: /personal/211934g_curtin_edu_au/Documents/ISYS2001-Assignment-2-Data/extract.db?ga=1 [following]\n",
            "--2022-05-28 14:08:32--  https://curtin-my.sharepoint.com/personal/211934g_curtin_edu_au/Documents/ISYS2001-Assignment-2-Data/extract.db?ga=1\n",
            "Reusing existing connection to curtin-my.sharepoint.com:443.\n",
            "HTTP request sent, awaiting response... 200 OK\n",
            "Length: 626688 (612K) [application/octet-stream]\n",
            "Saving to: ‘extract.db’\n",
            "\n",
            "extract.db          100%[===================>] 612.00K   513KB/s    in 1.2s    \n",
            "\n",
            "2022-05-28 14:08:34 (513 KB/s) - ‘extract.db’ saved [626688/626688]\n",
            "\n"
          ]
        }
      ]
    },
    {
      "cell_type": "markdown",
      "source": [
        "In 2000, Enron was one of the largest companies in the United States, but it went bankrupt in 2001. Before bankruptcy in 2001, Enron had about 21,000 employees and was one of the largest electric, gas and telecommunications companies in the world, with a reported turnover of $101 billion in 2000. The company has been selected as \"The Most innovative Company in The United States\" by Fortune magazine for six consecutive years. However, what really makes Enron famous in the world is that the company with hundreds of billions of assets went bankrupt in a few weeks in 2002, and the financial fraud scandal that lasted for many years was carefully planned and even institutionalized. Enron's European unit filed for bankruptcy on November 30, 2001, and its U.S. unit filed for bankruptcy protection two days later. But it had $49.8 billion in assets and $31.2 billion in heavy debt before its bankruptcy. The rapid development of excessive expansion makes it unable to cope with the reversal of the economic environment, and leads to the deterioration of the operation conditions, and ends the enterprise in bankruptcy.\n",
        "Since then, Enron has come to symbolize corporate fraud and depravity.However, as it was later revealed, many of the profits enron reported were inflated or even fabricated, leaving unprofitable parts off the balance sheet through a dizzying array of financial related-party transactions.This report will mainly talk about the number of the message each day by date,and who are the top 10 emailers of the organisation."
      ],
      "metadata": {
        "id": "Boq2eOpb9V0O"
      }
    },
    {
      "cell_type": "code",
      "source": [
        "import matplotlib.pyplot as plt\n",
        "import math\n",
        "import numpy as np\n",
        "import pandas as pd\n",
        "plt.rcParams['font.family']=[SimHei]\n",
        "data=[25,30,32,34,34,23,76,56,45,90,87,82,73,12,14,15,45,67,54,32,45,69]\n",
        "lable=[a,b,f,g,h,y,d,d,c,f,g,b,n,h,j,j.h.y.t.t.i.b]\n",
        "plt.xticks(range(len(data)),lable)\n",
        "plt.xlable('name')\n",
        "plt.ylable(\"number\")\n",
        "plt,title('number of messages each day by date')\n",
        "plt,bar(range(len(data)),data)\n",
        "for x,y in zip(range(len(data)),data):\n",
        "  plt.text(x,y,y,ha='center',va='bottom')\n",
        "plt.show()"
      ],
      "metadata": {
        "colab": {
          "base_uri": "https://localhost:8080/",
          "height": 244
        },
        "id": "X5VtkFDPo2vy",
        "outputId": "be14ac6e-5879-43d4-d1b9-6665571a4b46"
      },
      "execution_count": 4,
      "outputs": [
        {
          "output_type": "error",
          "ename": "NameError",
          "evalue": "ignored",
          "traceback": [
            "\u001b[0;31m---------------------------------------------------------------------------\u001b[0m",
            "\u001b[0;31mNameError\u001b[0m                                 Traceback (most recent call last)",
            "\u001b[0;32m<ipython-input-4-c9aa97ffc4db>\u001b[0m in \u001b[0;36m<module>\u001b[0;34m()\u001b[0m\n\u001b[1;32m      3\u001b[0m \u001b[0;32mimport\u001b[0m \u001b[0mnumpy\u001b[0m \u001b[0;32mas\u001b[0m \u001b[0mnp\u001b[0m\u001b[0;34m\u001b[0m\u001b[0;34m\u001b[0m\u001b[0m\n\u001b[1;32m      4\u001b[0m \u001b[0;32mimport\u001b[0m \u001b[0mpandas\u001b[0m \u001b[0;32mas\u001b[0m \u001b[0mpd\u001b[0m\u001b[0;34m\u001b[0m\u001b[0;34m\u001b[0m\u001b[0m\n\u001b[0;32m----> 5\u001b[0;31m \u001b[0mplt\u001b[0m\u001b[0;34m.\u001b[0m\u001b[0mrcParams\u001b[0m\u001b[0;34m[\u001b[0m\u001b[0;34m'font.family'\u001b[0m\u001b[0;34m]\u001b[0m\u001b[0;34m=\u001b[0m\u001b[0;34m[\u001b[0m\u001b[0mSimHei\u001b[0m\u001b[0;34m]\u001b[0m\u001b[0;34m\u001b[0m\u001b[0;34m\u001b[0m\u001b[0m\n\u001b[0m\u001b[1;32m      6\u001b[0m \u001b[0mdata\u001b[0m\u001b[0;34m=\u001b[0m\u001b[0;34m[\u001b[0m\u001b[0;36m25\u001b[0m\u001b[0;34m,\u001b[0m\u001b[0;36m30\u001b[0m\u001b[0;34m,\u001b[0m\u001b[0;36m32\u001b[0m\u001b[0;34m,\u001b[0m\u001b[0;36m34\u001b[0m\u001b[0;34m,\u001b[0m\u001b[0;36m34\u001b[0m\u001b[0;34m,\u001b[0m\u001b[0;36m23\u001b[0m\u001b[0;34m,\u001b[0m\u001b[0;36m76\u001b[0m\u001b[0;34m,\u001b[0m\u001b[0;36m56\u001b[0m\u001b[0;34m,\u001b[0m\u001b[0;36m45\u001b[0m\u001b[0;34m,\u001b[0m\u001b[0;36m90\u001b[0m\u001b[0;34m,\u001b[0m\u001b[0;36m87\u001b[0m\u001b[0;34m,\u001b[0m\u001b[0;36m82\u001b[0m\u001b[0;34m,\u001b[0m\u001b[0;36m73\u001b[0m\u001b[0;34m,\u001b[0m\u001b[0;36m12\u001b[0m\u001b[0;34m,\u001b[0m\u001b[0;36m14\u001b[0m\u001b[0;34m,\u001b[0m\u001b[0;36m15\u001b[0m\u001b[0;34m,\u001b[0m\u001b[0;36m45\u001b[0m\u001b[0;34m,\u001b[0m\u001b[0;36m67\u001b[0m\u001b[0;34m,\u001b[0m\u001b[0;36m54\u001b[0m\u001b[0;34m,\u001b[0m\u001b[0;36m32\u001b[0m\u001b[0;34m,\u001b[0m\u001b[0;36m45\u001b[0m\u001b[0;34m,\u001b[0m\u001b[0;36m69\u001b[0m\u001b[0;34m]\u001b[0m\u001b[0;34m\u001b[0m\u001b[0;34m\u001b[0m\u001b[0m\n\u001b[1;32m      7\u001b[0m \u001b[0mlable\u001b[0m\u001b[0;34m=\u001b[0m\u001b[0;34m[\u001b[0m\u001b[0ma\u001b[0m\u001b[0;34m,\u001b[0m\u001b[0mb\u001b[0m\u001b[0;34m,\u001b[0m\u001b[0mf\u001b[0m\u001b[0;34m,\u001b[0m\u001b[0mg\u001b[0m\u001b[0;34m,\u001b[0m\u001b[0mh\u001b[0m\u001b[0;34m,\u001b[0m\u001b[0my\u001b[0m\u001b[0;34m,\u001b[0m\u001b[0md\u001b[0m\u001b[0;34m,\u001b[0m\u001b[0md\u001b[0m\u001b[0;34m,\u001b[0m\u001b[0mc\u001b[0m\u001b[0;34m,\u001b[0m\u001b[0mf\u001b[0m\u001b[0;34m,\u001b[0m\u001b[0mg\u001b[0m\u001b[0;34m,\u001b[0m\u001b[0mb\u001b[0m\u001b[0;34m,\u001b[0m\u001b[0mn\u001b[0m\u001b[0;34m,\u001b[0m\u001b[0mh\u001b[0m\u001b[0;34m,\u001b[0m\u001b[0mj\u001b[0m\u001b[0;34m,\u001b[0m\u001b[0mj\u001b[0m\u001b[0;34m.\u001b[0m\u001b[0mh\u001b[0m\u001b[0;34m.\u001b[0m\u001b[0my\u001b[0m\u001b[0;34m.\u001b[0m\u001b[0mt\u001b[0m\u001b[0;34m.\u001b[0m\u001b[0mt\u001b[0m\u001b[0;34m.\u001b[0m\u001b[0mi\u001b[0m\u001b[0;34m.\u001b[0m\u001b[0mb\u001b[0m\u001b[0;34m]\u001b[0m\u001b[0;34m\u001b[0m\u001b[0;34m\u001b[0m\u001b[0m\n",
            "\u001b[0;31mNameError\u001b[0m: name 'SimHei' is not defined"
          ]
        }
      ]
    },
    {
      "cell_type": "code",
      "source": [
        "# top 10 emailer of the organisation\n",
        "import pandas as ps\n",
        "df=pd.read_excel(\"Email reply form\",sheet_name=None)\n",
        "df_all=pd.concat(df.values())\n",
        "df_all.sample(10)\n",
        "df_all.grouply([group]).apply(lambda x:x.nlargrst(10,\"amount\")).to excel(\"result.xlsx\")\n"
      ],
      "metadata": {
        "colab": {
          "base_uri": "https://localhost:8080/",
          "height": 137
        },
        "id": "zAIjf0f3gbhz",
        "outputId": "e97dfa32-d87e-4016-8a87-da51a7689252"
      },
      "execution_count": 2,
      "outputs": [
        {
          "output_type": "error",
          "ename": "SyntaxError",
          "evalue": "ignored",
          "traceback": [
            "\u001b[0;36m  File \u001b[0;32m\"<ipython-input-2-301f9e16e7a1>\"\u001b[0;36m, line \u001b[0;32m6\u001b[0m\n\u001b[0;31m    df_all.grouply([group]).apply(lambda x:x.nlargrst(10,\"amount\")).to excel(\"result.xlsx\")\u001b[0m\n\u001b[0m                                                                           ^\u001b[0m\n\u001b[0;31mSyntaxError\u001b[0m\u001b[0;31m:\u001b[0m invalid syntax\n"
          ]
        }
      ]
    },
    {
      "cell_type": "markdown",
      "source": [
        "The long-term impact of the Enron scandal is too early to predict, but it has rocked the politics of the US and UK, where enron is said to have donated more than $6m to politicians since 1990. At the same time, the institutions that had been involved with Enron were also affected. Arthur Andersen, one of the five famous international accounting firms that worked for Enron, was accused of obstruction of justice and collapsed. This led to the scandal of Another telecom giant, Worldcom, which subsequently declared bankruptcy. Replacing Enron as the biggest collapse in history. Citigroup, JPMORGAN Chase and Bank of America also paid 2 billion dollars, 2.2 billion dollars and 69 million dollars, respectively, to the victims of Enron's bankruptcy due to their alleged accounting fraud.\n",
        "The mastermind of enron's fraud on November 1, 2002, former Chief financial Officer Andrew Fastow, was indicted by a federal grand jury on 78 counts, including racketeering and money laundering. His wife, Lea Fastow, a former assistant cashier at the company, pleaded guilty on January 14th. Andrew himself was sentenced to 10 years in prison and fined $23.8 million; Lea was given a lighter sentence of five months in prison, suspended for one year, in return for Lea agreeing to serve as a witness.\n",
        "Ben Glisan Jr., a former enron teller who pleaded guilty to conspiracy to commit securities fraud and mail and wire fraud, was one of the first to be sent to prison for enron.\n",
        "John Forney, the energy trader who came up with the \"Death Star\" strategy, was indicted for fraud in enron, and his bosses are now tainted witnesses in the case.\n",
        "Enron led to the Sarbanes-Oxley Act, seen as the most important change to US securities law since the 1930s.\n",
        "The enron scandal was a bad one, and it set an example for other companies to do business more properly"
      ],
      "metadata": {
        "id": "4QJFHDfCjQXD"
      }
    }
  ]
}