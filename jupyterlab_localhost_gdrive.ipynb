{
  "nbformat": 4,
  "nbformat_minor": 0,
  "metadata": {
    "colab": {
      "name": "jupyterlab-localhost-gdrive.ipynb",
      "provenance": [],
      "include_colab_link": true
    },
    "kernelspec": {
      "name": "python3",
      "display_name": "Python 3"
    },
    "language_info": {
      "name": "python"
    }
  },
  "cells": [
    {
      "cell_type": "markdown",
      "metadata": {
        "id": "view-in-github",
        "colab_type": "text"
      },
      "source": [
        "<a href=\"https://colab.research.google.com/github/mayouguanxi/mayouguanxi/blob/main/jupyterlab_localhost_gdrive.ipynb\" target=\"_parent\"><img src=\"https://colab.research.google.com/assets/colab-badge.svg\" alt=\"Open In Colab\"/></a>"
      ]
    },
    {
      "cell_type": "code",
      "execution_count": null,
      "metadata": {
        "cellView": "form",
        "id": "KfD1o7Ae2rhW",
        "outputId": "133aea5b-3d0d-4e5e-f12e-56f6a178e8ef",
        "colab": {
          "base_uri": "https://localhost:8080/"
        }
      },
      "outputs": [
        {
          "metadata": {
            "tags": null
          },
          "name": "stdout",
          "output_type": "stream",
          "text": [
            "Pseudo-terminal will not be allocated because stdin is not a terminal.\r\n",
            "Warning: Permanently added 'ssh.localhost.run,3.234.18.192' (RSA) to the list of known hosts.\r\n",
            "\n",
            "===============================================================================\n",
            "Welcome to localhost.run!\n",
            "\n",
            "Follow your favourite reverse tunnel at [https://twitter.com/localhost_run].\n",
            "\n",
            "**You need a SSH key to access this service.**\n",
            "If you get a permission denied follow Gitlab's most excellent howto:\n",
            "https://docs.gitlab.com/ee/ssh/\n",
            "*Only rsa and ed25519 keys are supported*\n",
            "\n",
            "To set up and manage custom domains go to https://admin.localhost.run/\n",
            "\n",
            "More details on custom domains (and how to enable subdomains of your custom\n",
            "domain) at https://localhost.run/docs/custom-domains\n",
            "\n",
            "To explore using localhost.run visit the documentation site:\n",
            "https://localhost.run/docs/\n",
            "\n",
            "===============================================================================\n",
            "\n",
            "\n",
            "** your connection id is c41b28c1-8ee7-4406-96b8-4a591f408ba6, please mention it if you send me a message about an issue. **\n",
            "\n",
            "cdb84894cf2f98.lhrtunnel.link tunneled with tls termination, https://cdb84894cf2f98.lhrtunnel.link\n",
            "f23d260154488f.lhrtunnel.link tunneled with tls termination, https://f23d260154488f.lhrtunnel.link\n"
          ]
        }
      ],
      "source": [
        "#@title Jupyter Lab on Colab\n",
        "#@markdown Execute this cell to run Jupyter Lab over a localhost.run reverse ssh tunnel. See [localhost.run docs](https://localhost.run/docs/) for more details.\n",
        "#@markdown To **shutdown** notebook select `Runtime` from the menu then select `Restart Runtime` \n",
        "\n",
        "#@markdown WARNING: If you connect you Google Drive, then anyone who knows the tunnel link below will have access to you Google Drive\n",
        "Mount_Google_Drive = False #@param {type:\"boolean\"}\n",
        "if Mount_Google_Drive:\n",
        "  from google.colab import drive\n",
        "  drive.mount('/content/gdrive/')\n",
        "\n",
        "# install Jupyter Lab\n",
        "!pip install jupyterlab >/dev/null 2>&1\n",
        "\n",
        "# setup ssh\n",
        "!ssh-keygen -q -t rsa -N '' <<< $'\\ny' >/dev/null 2>&1\n",
        "!ssh-add >/dev/null 2>&1\n",
        "\n",
        "# load Jupyter Lab server\n",
        "!jupyter lab --ip=0.0.0.0 --port=8989 --allow-root >/dev/null 2>&1 &\n",
        "\n",
        "# setup reverse shell localhost.run exposing Jupyter Lab port\n",
        "!ssh -o StrictHostKeyChecking=no -R 80:localhost:8989 ssh.localhost.run &"
      ]
    },
    {
      "cell_type": "markdown",
      "source": [
        "# 新段落"
      ],
      "metadata": {
        "id": "H9jeBos3OT2f"
      }
    }
  ]
}