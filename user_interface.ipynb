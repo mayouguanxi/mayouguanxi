{
  "nbformat": 4,
  "nbformat_minor": 0,
  "metadata": {
    "colab": {
      "name": "userInterface.ipynb",
      "provenance": [],
      "include_colab_link": true
    },
    "kernelspec": {
      "name": "python3",
      "display_name": "Python 3"
    },
    "language_info": {
      "name": "python"
    }
  },
  "cells": [
    {
      "cell_type": "markdown",
      "metadata": {
        "id": "view-in-github",
        "colab_type": "text"
      },
      "source": [
        "<a href=\"https://colab.research.google.com/github/mayouguanxi/mayouguanxi/blob/main/user_interface.ipynb\" target=\"_parent\"><img src=\"https://colab.research.google.com/assets/colab-badge.svg\" alt=\"Open In Colab\"/></a>"
      ]
    },
    {
      "cell_type": "code",
      "execution_count": null,
      "metadata": {
        "id": "TLGRm8eLRGZT"
      },
      "outputs": [],
      "source": [
        "# Module User Interface\n",
        "import pyinputplus as pyip\n",
        "\n",
        "def display_menu():\n",
        "  '''\n",
        "  Display the menu and returns the users choice\n",
        "  '''\n",
        "  choices = ['+','-','*','/']\n",
        "  prompt = \"What operation you would like to complete? \\n\"\n",
        "  operator = pyip.inputMenu(choices, prompt=prompt)\n",
        "  return operator\n",
        "\n",
        "def ask_to_continue():\n",
        "  '''\n",
        "  Ask if want to continue, return either 'yes' or 'no'\n",
        "  '''\n",
        "  return pyip.inputYesNo(prompt=\"Do you want to continue? \")"
      ]
    }
  ]
}