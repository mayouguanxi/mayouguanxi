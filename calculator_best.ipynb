{
  "nbformat": 4,
  "nbformat_minor": 0,
  "metadata": {
    "colab": {
      "name": "calculator_best.ipynb",
      "provenance": [],
      "include_colab_link": true
    },
    "kernelspec": {
      "name": "python3",
      "display_name": "Python 3"
    },
    "language_info": {
      "name": "python"
    }
  },
  "cells": [
    {
      "cell_type": "markdown",
      "metadata": {
        "id": "view-in-github",
        "colab_type": "text"
      },
      "source": [
        "<a href=\"https://colab.research.google.com/github/mayouguanxi/mayouguanxi/blob/main/calculator_best.ipynb\" target=\"_parent\"><img src=\"https://colab.research.google.com/assets/colab-badge.svg\" alt=\"Open In Colab\"/></a>"
      ]
    },
    {
      "cell_type": "markdown",
      "source": [
        "# Simple Calculator\n",
        "\n",
        "This notebook prompts the user to select a mathematical operation and input two numbers. The program will then operate on the two numbers and output the result. The user will be able to continue performing operations on numbers or exit the program. The arithmetic operations include: \n",
        "* addition, \n",
        "* subtraction, \n",
        "* multiplication, and \n",
        "* division. "
      ],
      "metadata": {
        "id": "row5i9RVQ4zI"
      }
    },
    {
      "cell_type": "markdown",
      "source": [
        "# Setup Requirements"
      ],
      "metadata": {
        "id": "IcuEM5BmUpGR"
      }
    },
    {
      "cell_type": "code",
      "source": [
        "import sys\n",
        "IN_COLAB = 'google.colab' in sys.modules\n",
        "if IN_COLAB:\n",
        "  # Workaround due to how Colab sets up a VM instance\n",
        "  # Copy repository to VM instance this notebook is running\n",
        "  GIT_PATH = \"https://github.com/michael-borck/the_calculator_walkthrough.git\"\n",
        "  # Must clone into an empty directory\n",
        "  !mkdir ./temp\n",
        "  !git clone \"{GIT_PATH}\" ./temp\n",
        "  !mv ./temp/* .\n",
        "  !rm -rf ./temp"
      ],
      "metadata": {
        "id": "VOSY8B9cSv52"
      },
      "execution_count": null,
      "outputs": []
    },
    {
      "cell_type": "code",
      "source": [
        "# Requirements\n",
        "!pip -q install pyinputplus\n",
        "%run utilities.ipynb\n",
        "%run user_interface.ipynb\n",
        "%run my_math.ipynb"
      ],
      "metadata": {
        "id": "kjxJLTKcSQHb"
      },
      "execution_count": null,
      "outputs": []
    },
    {
      "cell_type": "markdown",
      "source": [
        "# Main Program"
      ],
      "metadata": {
        "id": "yxVV9UCFUuOu"
      }
    },
    {
      "cell_type": "code",
      "execution_count": null,
      "metadata": {
        "id": "76PuZ-aYb92L"
      },
      "outputs": [],
      "source": [
        "# Module Main Program\n",
        "import pyinputplus as pyip\n",
        "\n",
        "print(\"Welcome to Simple Calculator\")\n",
        "while True:\n",
        "  operation = display_menu()\n",
        "  first_number = pyip.inputNum(\"Please enter the first number \")\n",
        "  second_number = pyip.inputNum(\"Please enter the second number \")\n",
        "  result = do_math(operation, first_number, second_number)\n",
        "  print('{} {} {} = {}'.format(first_number, operation, second_number, result))\n",
        "  if ask_to_continue() == 'no':\n",
        "    print(\"Thank you for using Simple Calculator\")\n",
        "    break"
      ]
    }
  ]
}